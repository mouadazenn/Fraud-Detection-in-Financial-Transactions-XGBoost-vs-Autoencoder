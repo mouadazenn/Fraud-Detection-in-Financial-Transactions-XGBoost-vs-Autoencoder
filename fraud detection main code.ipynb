{
 "cells": [
  {
   "cell_type": "code",
   "execution_count": 2,
   "metadata": {
    "colab": {
     "base_uri": "https://localhost:8080/",
     "height": 73
    },
    "id": "tCIb1mmZai1F",
    "outputId": "60f9f605-3dc7-49b4-9fc0-939453b60d98"
   },
   "outputs": [
    {
     "data": {
      "text/html": [
       "\n",
       "     <input type=\"file\" id=\"files-63f873c6-6281-4374-b8bb-cb8aab111f58\" name=\"files[]\" multiple disabled\n",
       "        style=\"border:none\" />\n",
       "     <output id=\"result-63f873c6-6281-4374-b8bb-cb8aab111f58\">\n",
       "      Upload widget is only available when the cell has been executed in the\n",
       "      current browser session. Please rerun this cell to enable.\n",
       "      </output>\n",
       "      <script>// Copyright 2017 Google LLC\n",
       "//\n",
       "// Licensed under the Apache License, Version 2.0 (the \"License\");\n",
       "// you may not use this file except in compliance with the License.\n",
       "// You may obtain a copy of the License at\n",
       "//\n",
       "//      http://www.apache.org/licenses/LICENSE-2.0\n",
       "//\n",
       "// Unless required by applicable law or agreed to in writing, software\n",
       "// distributed under the License is distributed on an \"AS IS\" BASIS,\n",
       "// WITHOUT WARRANTIES OR CONDITIONS OF ANY KIND, either express or implied.\n",
       "// See the License for the specific language governing permissions and\n",
       "// limitations under the License.\n",
       "\n",
       "/**\n",
       " * @fileoverview Helpers for google.colab Python module.\n",
       " */\n",
       "(function(scope) {\n",
       "function span(text, styleAttributes = {}) {\n",
       "  const element = document.createElement('span');\n",
       "  element.textContent = text;\n",
       "  for (const key of Object.keys(styleAttributes)) {\n",
       "    element.style[key] = styleAttributes[key];\n",
       "  }\n",
       "  return element;\n",
       "}\n",
       "\n",
       "// Max number of bytes which will be uploaded at a time.\n",
       "const MAX_PAYLOAD_SIZE = 100 * 1024;\n",
       "\n",
       "function _uploadFiles(inputId, outputId) {\n",
       "  const steps = uploadFilesStep(inputId, outputId);\n",
       "  const outputElement = document.getElementById(outputId);\n",
       "  // Cache steps on the outputElement to make it available for the next call\n",
       "  // to uploadFilesContinue from Python.\n",
       "  outputElement.steps = steps;\n",
       "\n",
       "  return _uploadFilesContinue(outputId);\n",
       "}\n",
       "\n",
       "// This is roughly an async generator (not supported in the browser yet),\n",
       "// where there are multiple asynchronous steps and the Python side is going\n",
       "// to poll for completion of each step.\n",
       "// This uses a Promise to block the python side on completion of each step,\n",
       "// then passes the result of the previous step as the input to the next step.\n",
       "function _uploadFilesContinue(outputId) {\n",
       "  const outputElement = document.getElementById(outputId);\n",
       "  const steps = outputElement.steps;\n",
       "\n",
       "  const next = steps.next(outputElement.lastPromiseValue);\n",
       "  return Promise.resolve(next.value.promise).then((value) => {\n",
       "    // Cache the last promise value to make it available to the next\n",
       "    // step of the generator.\n",
       "    outputElement.lastPromiseValue = value;\n",
       "    return next.value.response;\n",
       "  });\n",
       "}\n",
       "\n",
       "/**\n",
       " * Generator function which is called between each async step of the upload\n",
       " * process.\n",
       " * @param {string} inputId Element ID of the input file picker element.\n",
       " * @param {string} outputId Element ID of the output display.\n",
       " * @return {!Iterable<!Object>} Iterable of next steps.\n",
       " */\n",
       "function* uploadFilesStep(inputId, outputId) {\n",
       "  const inputElement = document.getElementById(inputId);\n",
       "  inputElement.disabled = false;\n",
       "\n",
       "  const outputElement = document.getElementById(outputId);\n",
       "  outputElement.innerHTML = '';\n",
       "\n",
       "  const pickedPromise = new Promise((resolve) => {\n",
       "    inputElement.addEventListener('change', (e) => {\n",
       "      resolve(e.target.files);\n",
       "    });\n",
       "  });\n",
       "\n",
       "  const cancel = document.createElement('button');\n",
       "  inputElement.parentElement.appendChild(cancel);\n",
       "  cancel.textContent = 'Cancel upload';\n",
       "  const cancelPromise = new Promise((resolve) => {\n",
       "    cancel.onclick = () => {\n",
       "      resolve(null);\n",
       "    };\n",
       "  });\n",
       "\n",
       "  // Wait for the user to pick the files.\n",
       "  const files = yield {\n",
       "    promise: Promise.race([pickedPromise, cancelPromise]),\n",
       "    response: {\n",
       "      action: 'starting',\n",
       "    }\n",
       "  };\n",
       "\n",
       "  cancel.remove();\n",
       "\n",
       "  // Disable the input element since further picks are not allowed.\n",
       "  inputElement.disabled = true;\n",
       "\n",
       "  if (!files) {\n",
       "    return {\n",
       "      response: {\n",
       "        action: 'complete',\n",
       "      }\n",
       "    };\n",
       "  }\n",
       "\n",
       "  for (const file of files) {\n",
       "    const li = document.createElement('li');\n",
       "    li.append(span(file.name, {fontWeight: 'bold'}));\n",
       "    li.append(span(\n",
       "        `(${file.type || 'n/a'}) - ${file.size} bytes, ` +\n",
       "        `last modified: ${\n",
       "            file.lastModifiedDate ? file.lastModifiedDate.toLocaleDateString() :\n",
       "                                    'n/a'} - `));\n",
       "    const percent = span('0% done');\n",
       "    li.appendChild(percent);\n",
       "\n",
       "    outputElement.appendChild(li);\n",
       "\n",
       "    const fileDataPromise = new Promise((resolve) => {\n",
       "      const reader = new FileReader();\n",
       "      reader.onload = (e) => {\n",
       "        resolve(e.target.result);\n",
       "      };\n",
       "      reader.readAsArrayBuffer(file);\n",
       "    });\n",
       "    // Wait for the data to be ready.\n",
       "    let fileData = yield {\n",
       "      promise: fileDataPromise,\n",
       "      response: {\n",
       "        action: 'continue',\n",
       "      }\n",
       "    };\n",
       "\n",
       "    // Use a chunked sending to avoid message size limits. See b/62115660.\n",
       "    let position = 0;\n",
       "    do {\n",
       "      const length = Math.min(fileData.byteLength - position, MAX_PAYLOAD_SIZE);\n",
       "      const chunk = new Uint8Array(fileData, position, length);\n",
       "      position += length;\n",
       "\n",
       "      const base64 = btoa(String.fromCharCode.apply(null, chunk));\n",
       "      yield {\n",
       "        response: {\n",
       "          action: 'append',\n",
       "          file: file.name,\n",
       "          data: base64,\n",
       "        },\n",
       "      };\n",
       "\n",
       "      let percentDone = fileData.byteLength === 0 ?\n",
       "          100 :\n",
       "          Math.round((position / fileData.byteLength) * 100);\n",
       "      percent.textContent = `${percentDone}% done`;\n",
       "\n",
       "    } while (position < fileData.byteLength);\n",
       "  }\n",
       "\n",
       "  // All done.\n",
       "  yield {\n",
       "    response: {\n",
       "      action: 'complete',\n",
       "    }\n",
       "  };\n",
       "}\n",
       "\n",
       "scope.google = scope.google || {};\n",
       "scope.google.colab = scope.google.colab || {};\n",
       "scope.google.colab._files = {\n",
       "  _uploadFiles,\n",
       "  _uploadFilesContinue,\n",
       "};\n",
       "})(self);\n",
       "</script> "
      ],
      "text/plain": [
       "<IPython.core.display.HTML object>"
      ]
     },
     "metadata": {},
     "output_type": "display_data"
    },
    {
     "name": "stdout",
     "output_type": "stream",
     "text": [
      "Saving PS_20174392719_1491204439457_log.csv to PS_20174392719_1491204439457_log.csv\n"
     ]
    }
   ],
   "source": [
    "from google.colab import files\n",
    "uploaded = files.upload()\n"
   ]
  },
  {
   "cell_type": "code",
   "execution_count": 3,
   "metadata": {
    "colab": {
     "base_uri": "https://localhost:8080/"
    },
    "id": "iXwla7WjbBh_",
    "outputId": "68f8fdb1-f374-481a-9743-f23b57569f87"
   },
   "outputs": [
    {
     "name": "stdout",
     "output_type": "stream",
     "text": [
      "   step      type    amount     nameOrig  oldbalanceOrg  newbalanceOrig  \\\n",
      "0     1   PAYMENT   9839.64  C1231006815       170136.0       160296.36   \n",
      "1     1   PAYMENT   1864.28  C1666544295        21249.0        19384.72   \n",
      "2     1  TRANSFER    181.00  C1305486145          181.0            0.00   \n",
      "3     1  CASH_OUT    181.00   C840083671          181.0            0.00   \n",
      "4     1   PAYMENT  11668.14  C2048537720        41554.0        29885.86   \n",
      "\n",
      "      nameDest  oldbalanceDest  newbalanceDest  isFraud  isFlaggedFraud  \n",
      "0  M1979787155             0.0             0.0        0               0  \n",
      "1  M2044282225             0.0             0.0        0               0  \n",
      "2   C553264065             0.0             0.0        1               0  \n",
      "3    C38997010         21182.0             0.0        1               0  \n",
      "4  M1230701703             0.0             0.0        0               0  \n"
     ]
    }
   ],
   "source": [
    "import pandas as pd\n",
    "\n",
    "df = pd.read_csv(\"PS_20174392719_1491204439457_log.csv\")\n",
    "print(df.head())\n"
   ]
  },
  {
   "cell_type": "markdown",
   "metadata": {},
   "source": [
    "###  Data Loading and First Look\n",
    "\n",
    "In this step, we load the dataset of financial transactions into a pandas DataFrame.  \n",
    "\n",
    "- `pd.read_csv(...)` reads the CSV file.  \n",
    "- `df.head()` shows the first 5 rows to preview the structure.  \n",
    "\n",
    "The dataset contains **transaction-level information** with these key columns:\n",
    "\n",
    "- **step** → time step of the transaction (unit: hours).  \n",
    "- **type** → type of transaction (PAYMENT, TRANSFER, CASH_OUT, etc.).  \n",
    "- **amount** → monetary value of the transaction.  \n",
    "- **nameOrig** → anonymized ID of the customer who initiates the transaction.  \n",
    "- **oldbalanceOrg / newbalanceOrig** → balance of the sender before and after the transaction.  \n",
    "- **nameDest** → anonymized ID of the recipient.  \n",
    "- **oldbalanceDest / newbalanceDest** → balance of the recipient before and after the transaction.  \n",
    "- **isFraud** → target variable (1 = fraud, 0 = normal).  \n",
    "- **isFlaggedFraud** → transactions flagged by internal rules (rare cases).  \n",
    "\n",
    "This first look confirms that the dataset was loaded correctly and gives us an overview of the variables we will use for fraud detection."
   ]
  },
  {
   "cell_type": "markdown",
   "metadata": {
    "id": "UOItZTicbGXZ"
   },
   "source": [
    "### ⚙️ Feature Engineering\n",
    "\n",
    "In this step, we create **new features** from the raw PaySim dataset to improve the ability of our model to detect fraud.\n",
    "\n",
    "1. **Transaction type encoding**  \n",
    "   - We keep the original `type` column.  \n",
    "   - We add one-hot encoded dummy variables (e.g., `type_TRANSFER`, `type_CASH_OUT`) to make transaction categories usable by machine learning models.\n",
    "\n",
    "2. **Balance differences**  \n",
    "   - `deltaOrig = oldbalanceOrg - amount - newbalanceOrig`  \n",
    "     → Checks if the reported new balance of the origin account is consistent.  \n",
    "   - `deltaDest = oldbalanceDest + amount - newbalanceDest`  \n",
    "     → Checks consistency on the destination side.  \n",
    "   These differences often highlight fraud attempts where balances do not match expected updates.\n",
    "\n",
    "3. **Relative ratios**  \n",
    "   - `ratioOrig = amount / (oldbalanceOrg + 1)`  \n",
    "     → Measures transaction size relative to the sender’s balance.  \n",
    "   - `ratioDest = amount / (oldbalanceDest + 1)`  \n",
    "     → Measures impact relative to the recipient’s balance.  \n",
    "   Ratios help detect unusually large transactions.\n",
    "\n",
    "4. **Fraud-related flags**  \n",
    "   - `isNewDest`: 1 if the destination account had zero balance before and ends up with exactly the transaction amount (often suspicious).  \n",
    "   - `isEmptyOrigin`: 1 if the origin account starts with zero balance but still sends money (inconsistent behavior).  \n",
    "\n",
    "5. **Time-based features**  \n",
    "   - `day = step // 24` → Converts simulation steps (hours) into days.  \n",
    "   - `hour = step % 24` → Extracts the hour of the day, which may reveal unusual transaction times.\n",
    "\n",
    "👉 These engineered features enrich the dataset with **behavioral, consistency, and temporal signals**, making it easier for our model to separate fraudulent and normal transactions.\n"
   ]
  },
  {
   "cell_type": "code",
   "execution_count": 4,
   "metadata": {
    "colab": {
     "base_uri": "https://localhost:8080/"
    },
    "id": "jWg-5RvEhjaZ",
    "outputId": "94d49f41-8369-44ed-f534-5b9363701caf"
   },
   "outputs": [
    {
     "name": "stdout",
     "output_type": "stream",
     "text": [
      "Index(['step', 'type', 'amount', 'nameOrig', 'oldbalanceOrg', 'newbalanceOrig',\n",
      "       'nameDest', 'oldbalanceDest', 'newbalanceDest', 'isFraud',\n",
      "       'isFlaggedFraud', 'type_CASH_OUT', 'type_DEBIT', 'type_PAYMENT',\n",
      "       'type_TRANSFER', 'deltaOrig', 'deltaDest', 'ratioOrig', 'ratioDest',\n",
      "       'isNewDest', 'isEmptyOrigin', 'day', 'hour'],\n",
      "      dtype='object')\n"
     ]
    }
   ],
   "source": [
    "def feature_engineering(df: pd.DataFrame) -> pd.DataFrame:\n",
    "    \"\"\"\n",
    "    Feature engineering for PaySim dataset.\n",
    "    Keeps the original 'type' column and adds dummy variables.\n",
    "    \"\"\"\n",
    "    # --- 1. One-hot encode type but keep original ---\n",
    "    type_dummies = pd.get_dummies(df['type'], prefix=\"type\", drop_first=True)\n",
    "    df = pd.concat([df, type_dummies], axis=1)\n",
    "\n",
    "    # --- 2. Balance differences ---\n",
    "    df['deltaOrig'] = df['oldbalanceOrg'] - df['amount'] - df['newbalanceOrig']\n",
    "    df['deltaDest'] = df['oldbalanceDest'] + df['amount'] - df['newbalanceDest']\n",
    "\n",
    "    # --- 3. Relative ratios ---\n",
    "    df['ratioOrig'] = df['amount'] / (df['oldbalanceOrg'] + 1)\n",
    "    df['ratioDest'] = df['amount'] / (df['oldbalanceDest'] + 1)\n",
    "\n",
    "    # --- 4. Fraud-related flags ---\n",
    "    df['isNewDest'] = ((df['oldbalanceDest'] == 0) &\n",
    "                       (df['newbalanceDest'] == df['amount'])).astype(int)\n",
    "\n",
    "    df['isEmptyOrigin'] = ((df['oldbalanceOrg'] == 0) &\n",
    "                           (df['amount'] > 0)).astype(int)\n",
    "\n",
    "    # --- 5. Time features ---\n",
    "    df['day'] = df['step'] // 24\n",
    "    df['hour'] = df['step'] % 24\n",
    "\n",
    "    return df\n",
    "# Apply feature engineering\n",
    "df = feature_engineering(df)\n",
    "\n",
    "# Check the new columns\n",
    "print(df.columns)"
   ]
  },
  {
   "cell_type": "code",
   "execution_count": 6,
   "metadata": {
    "colab": {
     "base_uri": "https://localhost:8080/",
     "height": 472
    },
    "id": "E0tbHgQqhsZB",
    "outputId": "e2efea71-7a9e-4abe-ad88-bbc692c49242"
   },
   "outputs": [
    {
     "data": {
      "image/png": "[encoded data removed]",
      "text/plain": [
       "<Figure size 640x480 with 1 Axes>"
      ]
     },
     "metadata": {},
     "output_type": "display_data"
    }
   ],
   "source": [
    "import seaborn as sns\n",
    "import matplotlib.pyplot as plt\n",
    "df['isFraud'].value_counts(normalize=True).plot(kind='bar')\n",
    "plt.title(\"Fraud vs Normal Distribution\")\n",
    "plt.xticks([0,1], [\"Normal (0)\", \"Fraud (1)\"], rotation=0)\n",
    "plt.ylabel(\"Proportion\")\n",
    "plt.show()"
   ]
  },
  {
   "cell_type": "markdown",
   "metadata": {},
   "source": [
    "### ⚖️ Class Imbalance\n",
    "\n",
    "This plot shows the extreme **class imbalance** in our dataset:\n",
    "\n",
    "- Normal transactions: ~99.8%  \n",
    "- Fraudulent transactions: ~0.2%  \n",
    "\n",
    "Such imbalance means that:\n",
    "- A naive model predicting \"always normal\" would achieve ~99.8% accuracy, but it would **miss all frauds**.  \n",
    "- Therefore, metrics like **Precision, Recall, F1-score, and PR-AUC** are more meaningful than plain accuracy.  \n",
    "\n",
    "This imbalance also motivates using techniques such as:\n",
    "- **Resampling** (undersampling, oversampling, SMOTE).  \n",
    "- **Anomaly detection models** (autoencoders, isolation forest).  \n",
    "- **Threshold tuning** to balance false positives vs false negatives."
   ]
  },
  {
   "cell_type": "code",
   "execution_count": 7,
   "metadata": {
    "colab": {
     "base_uri": "https://localhost:8080/",
     "height": 533
    },
    "id": "Y2beY1shiYis",
    "outputId": "6c3b80d8-360b-406f-aa18-eb507035c43d"
   },
   "outputs": [
    {
     "data": {
      "image/png": "[encoded data removed]",
      "text/plain": [
       "<Figure size 640x480 with 1 Axes>"
      ]
     },
     "metadata": {},
     "output_type": "display_data"
    }
   ],
   "source": [
    "fraud_by_type = df.groupby(\"type\")['isFraud'].mean()\n",
    "fraud_by_type.plot(kind='bar', color='orange')\n",
    "plt.title(\"Fraud Rate by Transaction Type\")\n",
    "plt.ylabel(\"Fraud Rate\")\n",
    "plt.show()"
   ]
  },
  {
   "cell_type": "markdown",
   "metadata": {},
   "source": [
    "### 🔍 Fraud Rate by Transaction Type\n",
    "\n",
    "This plot shows that fraud happens almost **only** in `TRANSFER` and `CASH_OUT` operations.  \n",
    "Other transaction types (`CASH_IN`, `PAYMENT`, `DEBIT`) have near-zero fraud rates.  \n",
    "\n",
    "👉 Conclusion: fraudsters mainly exploit **TRANSFER** and **CASH_OUT** to move or withdraw money.\n"
   ]
  },
  {
   "cell_type": "code",
   "execution_count": 8,
   "metadata": {
    "colab": {
     "base_uri": "https://localhost:8080/",
     "height": 487
    },
    "id": "wcVP36K3i5vf",
    "outputId": "84ae22b7-601c-4d92-aba3-7e7242a1a5d0"
   },
   "outputs": [
    {
     "data": {
      "image/png": "[encoded data removed]",
      "text/plain": [
       "<Figure size 1000x500 with 1 Axes>"
      ]
     },
     "metadata": {},
     "output_type": "display_data"
    }
   ],
   "source": [
    "plt.figure(figsize=(10,5))\n",
    "sns.histplot(df[df['isFraud']==0]['amount'], bins=100, color='blue', label=\"Normal\", alpha=0.5)\n",
    "sns.histplot(df[df['isFraud']==1]['amount'], bins=100, color='red', label=\"Fraud\", alpha=0.5)\n",
    "plt.legend()\n",
    "plt.xlim(0, 20000)\n",
    "plt.title(\"Transaction Amount Distribution (Fraud vs Normal)\")\n",
    "plt.show()"
   ]
  },
  {
   "cell_type": "markdown",
   "metadata": {},
   "source": [
    "### 💰 Transaction Amount Distribution (Fraud vs Normal)\n",
    "\n",
    "This histogram compares transaction amounts for normal vs fraudulent cases:\n",
    "\n",
    "- Normal transactions (blue) dominate across all ranges.  \n",
    "- Fraudulent ones (red) are very few and almost invisible at this scale.  \n",
    "- Most frauds happen in **higher transaction amounts**, which makes sense since fraudsters try to maximize the stolen value.\n",
    "\n",
    "👉 This confirms that transaction amount is a **useful signal** for fraud detection.\n"
   ]
  },
  {
   "cell_type": "code",
   "execution_count": 9,
   "metadata": {
    "colab": {
     "base_uri": "https://localhost:8080/",
     "height": 957
    },
    "id": "rGD5AjQfi88y",
    "outputId": "c881ad84-4d46-4b1a-c59a-afd40078ffce"
   },
   "outputs": [
    {
     "data": {
      "image/png": "[encoded data removed]",
      "text/plain": [
       "<Figure size 1000x500 with 1 Axes>"
      ]
     },
     "metadata": {},
     "output_type": "display_data"
    },
    {
     "data": {
      "image/png": "[encoded data removed]",
      "text/plain": [
       "<Figure size 1000x500 with 1 Axes>"
      ]
     },
     "metadata": {},
     "output_type": "display_data"
    }
   ],
   "source": [
    "plt.figure(figsize=(10,5))\n",
    "sns.boxplot(x=\"isFraud\", y=\"deltaOrig\", data=df)\n",
    "plt.title(\"Balance Difference (Origin) vs Fraud\")\n",
    "plt.show()\n",
    "\n",
    "plt.figure(figsize=(10,5))\n",
    "sns.boxplot(x=\"isFraud\", y=\"deltaDest\", data=df)\n",
    "plt.title(\"Balance Difference (Destination) vs Fraud\")\n",
    "plt.show()"
   ]
  },
  {
   "cell_type": "markdown",
   "metadata": {},
   "source": [
    "### 📦 Balance Difference vs Fraud\n",
    "\n",
    "These boxplots compare balance differences for origin and destination accounts:\n",
    "\n",
    "- **deltaOrig** = oldbalanceOrg − amount − newbalanceOrig  \n",
    "- **deltaDest** = oldbalanceDest + amount − newbalanceDest  \n",
    "\n",
    "Observations:\n",
    "- Normal transactions (isFraud=0) show more spread and many extreme outliers.  \n",
    "- Fraudulent ones (isFraud=1) have **tighter distributions** and often show inconsistencies in balances.  \n",
    "\n",
    "👉 This confirms that **balance difference features** capture abnormal behavior and are important signals for fraud detection.\n"
   ]
  },
  {
   "cell_type": "code",
   "execution_count": 10,
   "metadata": {
    "colab": {
     "base_uri": "https://localhost:8080/",
     "height": 475
    },
    "id": "24_3NlcEjABJ",
    "outputId": "a3d4125d-9596-4dbb-aa12-ddea75e9a00d"
   },
   "outputs": [
    {
     "data": {
      "image/png": "[encoded data removed]",
      "text/plain": [
       "<Figure size 640x480 with 1 Axes>"
      ]
     },
     "metadata": {},
     "output_type": "display_data"
    }
   ],
   "source": [
    "fraud_by_hour = df.groupby(\"hour\")['isFraud'].mean()\n",
    "fraud_by_hour.plot(kind='bar', color='purple')\n",
    "plt.title(\"Fraud Rate by Hour of Day\")\n",
    "plt.ylabel(\"Fraud Rate\")\n",
    "plt.show()"
   ]
  },
  {
   "cell_type": "markdown",
   "metadata": {},
   "source": [
    "### ⏰ Fraud Rate by Hour of Day\n",
    "\n",
    "This chart shows how fraud varies by time of day:\n",
    "\n",
    "- Fraud peaks between **3 AM and 6 AM**, with the highest rates around 4–5 AM.  \n",
    "- During the rest of the day, fraud rates drop close to zero.  \n",
    "\n",
    "👉 Conclusion: fraudsters often operate at **night/early morning**, likely to avoid detection when activity is lower.\n"
   ]
  },
  {
   "cell_type": "markdown",
   "metadata": {},
   "source": [
    "### 🎯 Preparing Features and Target\n",
    "\n",
    "- **Target (`y`)** → the column `isFraud`, which indicates whether a transaction is fraudulent (1) or normal (0).  \n",
    "\n",
    "- **Features (`X`)** → all other useful columns after dropping:\n",
    "  - `isFraud` → the target itself (avoid leakage).  \n",
    "  - `nameOrig`, `nameDest` → customer/recipient IDs (random identifiers, not predictive).  \n",
    "  - `isFlaggedFraud` → a control flag set by rules, very rare and unrealistic as a model input.  \n",
    "  - `type` → already replaced by one-hot encoded variables during feature engineering.  \n",
    "\n",
    "👉 This ensures our model trains only on **relevant, non-leaking features** to make fair predictions.\n"
   ]
  },
  {
   "cell_type": "code",
   "execution_count": 11,
   "metadata": {
    "id": "VWger3jojPSO"
   },
   "outputs": [],
   "source": [
    "# Target\n",
    "y = df['isFraud']\n",
    "\n",
    "# Drop unused / leakage columns\n",
    "drop_cols = ['isFraud', 'nameOrig', 'nameDest', 'isFlaggedFraud', 'type']\n",
    "X = df.drop(columns=[c for c in drop_cols if c in df.columns])"
   ]
  },
  {
   "cell_type": "markdown",
   "metadata": {},
   "source": [
    "### 🕒 Time-Based Train/Validation/Test Split\n",
    "\n",
    "To avoid data leakage, we split the dataset by **transaction time (`step`)** instead of random sampling:\n",
    "\n",
    "1. **Sorting by time** → ensures transactions are in chronological order.  \n",
    "2. **Cutoffs**  \n",
    "   - First 70% of time → **Training set** (X_train, y_train).  \n",
    "   - Next 15% → **Validation set** (X_val, y_val) used for tuning models and thresholds.  \n",
    "   - Last 15% → **Test set** (X_test, y_test) for final unbiased evaluation.  \n",
    "\n",
    "👉 This simulates a **real-world fraud detection scenario**, where models are trained on past data and tested on future transactions.\n"
   ]
  },
  {
   "cell_type": "code",
   "execution_count": 12,
   "metadata": {
    "id": "hzF1o1oBjRxY"
   },
   "outputs": [],
   "source": [
    "# Sort by time\n",
    "df_sorted = df.sort_values('step').reset_index(drop=True)\n",
    "X = X.loc[df_sorted.index]\n",
    "y = y.loc[df_sorted.index]\n",
    "\n",
    "# Define cutoffs\n",
    "q_train = df_sorted['step'].quantile(0.70)\n",
    "q_val   = df_sorted['step'].quantile(0.85)\n",
    "\n",
    "train_mask = df_sorted['step'] <= q_train\n",
    "val_mask   = (df_sorted['step'] > q_train) & (df_sorted['step'] <= q_val)\n",
    "test_mask  = df_sorted['step'] > q_val\n",
    "\n",
    "X_train, y_train = X[train_mask], y[train_mask]\n",
    "X_val,   y_val   = X[val_mask],   y[val_mask]\n",
    "X_test,  y_test  = X[test_mask],  y[test_mask]"
   ]
  },
  {
   "cell_type": "markdown",
   "metadata": {},
   "source": [
    "### ⚖️ Handling Class Imbalance (scale_pos_weight)\n",
    "\n",
    "Since fraud cases (positives) are extremely rare compared to normal ones (negatives), we calculate the imbalance ratio:\n",
    "\n",
    "- `neg, pos = np.bincount(y_train)` → counts normal vs fraud in the training set.  \n",
    "- `scale_pos_weight = neg / pos` → gives the weight to balance positive examples during model training.  \n",
    "\n",
    "👉 This value is passed to algorithms like **XGBoost** or **LightGBM** so that the model pays more attention to fraud cases without oversampling the data.\n"
   ]
  },
  {
   "cell_type": "code",
   "execution_count": 13,
   "metadata": {
    "colab": {
     "base_uri": "https://localhost:8080/"
    },
    "id": "hGSLKPqQjUdl",
    "outputId": "ea4c7282-0643-4850-fe9b-d5a13939085a"
   },
   "outputs": [
    {
     "name": "stdout",
     "output_type": "stream",
     "text": [
      "scale_pos_weight = 1224.250343123799\n"
     ]
    }
   ],
   "source": [
    "import numpy as np\n",
    "\n",
    "neg, pos = np.bincount(y_train)\n",
    "scale_pos_weight = neg / pos\n",
    "print(\"scale_pos_weight =\", scale_pos_weight)"
   ]
  },
  {
   "cell_type": "code",
   "execution_count": 14,
   "metadata": {
    "id": "9C7eX47Jjebt"
   },
   "outputs": [],
   "source": [
    "from xgboost import XGBClassifier\n",
    "\n",
    "xgb = XGBClassifier(\n",
    "    n_estimators=300,        # number of boosting rounds\n",
    "    max_depth=6,             # tree depth\n",
    "    learning_rate=0.1,       # step size shrinkage\n",
    "    subsample=0.8,           # row sampling\n",
    "    colsample_bytree=0.8,    # feature sampling\n",
    "    scale_pos_weight=scale_pos_weight,  # handles imbalance\n",
    "    random_state=42,\n",
    "    n_jobs=-1,\n",
    "    use_label_encoder=False,\n",
    "    val_metric=\"auc\"# avoid warnings\n",
    ")"
   ]
  },
  {
   "cell_type": "markdown",
   "metadata": {},
   "source": [
    "### 🌲 XGBoost Classifier Setup\n",
    "\n",
    "We initialize an **XGBoost model** with parameters adapted to the fraud dataset:\n",
    "\n",
    "- **n_estimators=300** → number of boosting rounds (trees).  \n",
    "- **max_depth=6** → controls tree complexity; prevents overfitting.  \n",
    "- **learning_rate=0.1** → step size shrinkage for gradual learning.  \n",
    "- **subsample=0.8** and **colsample_bytree=0.8** → random sampling of rows and features to reduce overfitting.  \n",
    "- **scale_pos_weight** → imbalance adjustment, set from the ratio of normal vs fraud cases.  \n",
    "- **random_state=42** → ensures reproducibility.  \n",
    "- **n_jobs=-1** → uses all CPU cores for faster training.  \n",
    "- **use_label_encoder=False** and **eval_metric=\"auc\"** → avoid warnings and use AUC as evaluation metric.  \n",
    "\n",
    "👉 This configuration prepares XGBoost to **focus on rare fraud cases** while keeping the model generalizable.\n"
   ]
  },
  {
   "cell_type": "code",
   "execution_count": 15,
   "metadata": {
    "colab": {
     "base_uri": "https://localhost:8080/",
     "height": 444
    },
    "id": "Dj0JCRdgjtoE",
    "outputId": "eae19598-5640-41b7-dc3a-837c224dbbd3"
   },
   "outputs": [
    {
     "name": "stderr",
     "output_type": "stream",
     "text": [
      "/usr/local/lib/python3.12/dist-packages/xgboost/training.py:183: UserWarning: [13:55:51] WARNING: /workspace/src/learner.cc:738: \n",
      "Parameters: { \"use_label_encoder\", \"val_metric\" } are not used.\n",
      "\n",
      "  bst.update(dtrain, iteration=i, fobj=obj)\n"
     ]
    },
    {
     "name": "stdout",
     "output_type": "stream",
     "text": [
      "[0]\tvalidation_0-logloss:0.59912\tvalidation_1-logloss:0.59825\n",
      "[50]\tvalidation_0-logloss:0.00478\tvalidation_1-logloss:0.00357\n",
      "[100]\tvalidation_0-logloss:0.00051\tvalidation_1-logloss:0.00016\n",
      "[150]\tvalidation_0-logloss:0.00018\tvalidation_1-logloss:0.00010\n",
      "[200]\tvalidation_0-logloss:0.00010\tvalidation_1-logloss:0.00009\n",
      "[250]\tvalidation_0-logloss:0.00007\tvalidation_1-logloss:0.00009\n",
      "[299]\tvalidation_0-logloss:0.00005\tvalidation_1-logloss:0.00008\n"
     ]
    },
    {
     "data": {
      "text/html": [
       "<style>#sk-container-id-1 {\n",
       "  /* Definition of color scheme common for light and dark mode */\n",
       "  --sklearn-color-text: #000;\n",
       "  --sklearn-color-text-muted: #666;\n",
       "  --sklearn-color-line: gray;\n",
       "  /* Definition of color scheme for unfitted estimators */\n",
       "  --sklearn-color-unfitted-level-0: #fff5e6;\n",
       "  --sklearn-color-unfitted-level-1: #f6e4d2;\n",
       "  --sklearn-color-unfitted-level-2: #ffe0b3;\n",
       "  --sklearn-color-unfitted-level-3: chocolate;\n",
       "  /* Definition of color scheme for fitted estimators */\n",
       "  --sklearn-color-fitted-level-0: #f0f8ff;\n",
       "  --sklearn-color-fitted-level-1: #d4ebff;\n",
       "  --sklearn-color-fitted-level-2: #b3dbfd;\n",
       "  --sklearn-color-fitted-level-3: cornflowerblue;\n",
       "\n",
       "  /* Specific color for light theme */\n",
       "  --sklearn-color-text-on-default-background: var(--sg-text-color, var(--theme-code-foreground, var(--jp-content-font-color1, black)));\n",
       "  --sklearn-color-background: var(--sg-background-color, var(--theme-background, var(--jp-layout-color0, white)));\n",
       "  --sklearn-color-border-box: var(--sg-text-color, var(--theme-code-foreground, var(--jp-content-font-color1, black)));\n",
       "  --sklearn-color-icon: #696969;\n",
       "\n",
       "  @media (prefers-color-scheme: dark) {\n",
       "    /* Redefinition of color scheme for dark theme */\n",
       "    --sklearn-color-text-on-default-background: var(--sg-text-color, var(--theme-code-foreground, var(--jp-content-font-color1, white)));\n",
       "    --sklearn-color-background: var(--sg-background-color, var(--theme-background, var(--jp-layout-color0, #111)));\n",
       "    --sklearn-color-border-box: var(--sg-text-color, var(--theme-code-foreground, var(--jp-content-font-color1, white)));\n",
       "    --sklearn-color-icon: #878787;\n",
       "  }\n",
       "}\n",
       "\n",
       "#sk-container-id-1 {\n",
       "  color: var(--sklearn-color-text);\n",
       "}\n",
       "\n",
       "#sk-container-id-1 pre {\n",
       "  padding: 0;\n",
       "}\n",
       "\n",
       "#sk-container-id-1 input.sk-hidden--visually {\n",
       "  border: 0;\n",
       "  clip: rect(1px 1px 1px 1px);\n",
       "  clip: rect(1px, 1px, 1px, 1px);\n",
       "  height: 1px;\n",
       "  margin: -1px;\n",
       "  overflow: hidden;\n",
       "  padding: 0;\n",
       "  position: absolute;\n",
       "  width: 1px;\n",
       "}\n",
       "\n",
       "#sk-container-id-1 div.sk-dashed-wrapped {\n",
       "  border: 1px dashed var(--sklearn-color-line);\n",
       "  margin: 0 0.4em 0.5em 0.4em;\n",
       "  box-sizing: border-box;\n",
       "  padding-bottom: 0.4em;\n",
       "  background-color: var(--sklearn-color-background);\n",
       "}\n",
       "\n",
       "#sk-container-id-1 div.sk-container {\n",
       "  /* jupyter's `normalize.less` sets `[hidden] { display: none; }`\n",
       "     but bootstrap.min.css set `[hidden] { display: none !important; }`\n",
       "     so we also need the `!important` here to be able to override the\n",
       "     default hidden behavior on the sphinx rendered scikit-learn.org.\n",
       "     See: https://github.com/scikit-learn/scikit-learn/issues/21755 */\n",
       "  display: inline-block !important;\n",
       "  position: relative;\n",
       "}\n",
       "\n",
       "#sk-container-id-1 div.sk-text-repr-fallback {\n",
       "  display: none;\n",
       "}\n",
       "\n",
       "div.sk-parallel-item,\n",
       "div.sk-serial,\n",
       "div.sk-item {\n",
       "  /* draw centered vertical line to link estimators */\n",
       "  background-image: linear-gradient(var(--sklearn-color-text-on-default-background), var(--sklearn-color-text-on-default-background));\n",
       "  background-size: 2px 100%;\n",
       "  background-repeat: no-repeat;\n",
       "  background-position: center center;\n",
       "}\n",
       "\n",
       "/* Parallel-specific style estimator block */\n",
       "\n",
       "#sk-container-id-1 div.sk-parallel-item::after {\n",
       "  content: \"\";\n",
       "  width: 100%;\n",
       "  border-bottom: 2px solid var(--sklearn-color-text-on-default-background);\n",
       "  flex-grow: 1;\n",
       "}\n",
       "\n",
       "#sk-container-id-1 div.sk-parallel {\n",
       "  display: flex;\n",
       "  align-items: stretch;\n",
       "  justify-content: center;\n",
       "  background-color: var(--sklearn-color-background);\n",
       "  position: relative;\n",
       "}\n",
       "\n",
       "#sk-container-id-1 div.sk-parallel-item {\n",
       "  display: flex;\n",
       "  flex-direction: column;\n",
       "}\n",
       "\n",
       "#sk-container-id-1 div.sk-parallel-item:first-child::after {\n",
       "  align-self: flex-end;\n",
       "  width: 50%;\n",
       "}\n",
       "\n",
       "#sk-container-id-1 div.sk-parallel-item:last-child::after {\n",
       "  align-self: flex-start;\n",
       "  width: 50%;\n",
       "}\n",
       "\n",
       "#sk-container-id-1 div.sk-parallel-item:only-child::after {\n",
       "  width: 0;\n",
       "}\n",
       "\n",
       "/* Serial-specific style estimator block */\n",
       "\n",
       "#sk-container-id-1 div.sk-serial {\n",
       "  display: flex;\n",
       "  flex-direction: column;\n",
       "  align-items: center;\n",
       "  background-color: var(--sklearn-color-background);\n",
       "  padding-right: 1em;\n",
       "  padding-left: 1em;\n",
       "}\n",
       "\n",
       "\n",
       "/* Toggleable style: style used for estimator/Pipeline/ColumnTransformer box that is\n",
       "clickable and can be expanded/collapsed.\n",
       "- Pipeline and ColumnTransformer use this feature and define the default style\n",
       "- Estimators will overwrite some part of the style using the `sk-estimator` class\n",
       "*/\n",
       "\n",
       "/* Pipeline and ColumnTransformer style (default) */\n",
       "\n",
       "#sk-container-id-1 div.sk-toggleable {\n",
       "  /* Default theme specific background. It is overwritten whether we have a\n",
       "  specific estimator or a Pipeline/ColumnTransformer */\n",
       "  background-color: var(--sklearn-color-background);\n",
       "}\n",
       "\n",
       "/* Toggleable label */\n",
       "#sk-container-id-1 label.sk-toggleable__label {\n",
       "  cursor: pointer;\n",
       "  display: flex;\n",
       "  width: 100%;\n",
       "  margin-bottom: 0;\n",
       "  padding: 0.5em;\n",
       "  box-sizing: border-box;\n",
       "  text-align: center;\n",
       "  align-items: start;\n",
       "  justify-content: space-between;\n",
       "  gap: 0.5em;\n",
       "}\n",
       "\n",
       "#sk-container-id-1 label.sk-toggleable__label .caption {\n",
       "  font-size: 0.6rem;\n",
       "  font-weight: lighter;\n",
       "  color: var(--sklearn-color-text-muted);\n",
       "}\n",
       "\n",
       "#sk-container-id-1 label.sk-toggleable__label-arrow:before {\n",
       "  /* Arrow on the left of the label */\n",
       "  content: \"▸\";\n",
       "  float: left;\n",
       "  margin-right: 0.25em;\n",
       "  color: var(--sklearn-color-icon);\n",
       "}\n",
       "\n",
       "#sk-container-id-1 label.sk-toggleable__label-arrow:hover:before {\n",
       "  color: var(--sklearn-color-text);\n",
       "}\n",
       "\n",
       "/* Toggleable content - dropdown */\n",
       "\n",
       "#sk-container-id-1 div.sk-toggleable__content {\n",
       "  max-height: 0;\n",
       "  max-width: 0;\n",
       "  overflow: hidden;\n",
       "  text-align: left;\n",
       "  /* unfitted */\n",
       "  background-color: var(--sklearn-color-unfitted-level-0);\n",
       "}\n",
       "\n",
       "#sk-container-id-1 div.sk-toggleable__content.fitted {\n",
       "  /* fitted */\n",
       "  background-color: var(--sklearn-color-fitted-level-0);\n",
       "}\n",
       "\n",
       "#sk-container-id-1 div.sk-toggleable__content pre {\n",
       "  margin: 0.2em;\n",
       "  border-radius: 0.25em;\n",
       "  color: var(--sklearn-color-text);\n",
       "  /* unfitted */\n",
       "  background-color: var(--sklearn-color-unfitted-level-0);\n",
       "}\n",
       "\n",
       "#sk-container-id-1 div.sk-toggleable__content.fitted pre {\n",
       "  /* unfitted */\n",
       "  background-color: var(--sklearn-color-fitted-level-0);\n",
       "}\n",
       "\n",
       "#sk-container-id-1 input.sk-toggleable__control:checked~div.sk-toggleable__content {\n",
       "  /* Expand drop-down */\n",
       "  max-height: 200px;\n",
       "  max-width: 100%;\n",
       "  overflow: auto;\n",
       "}\n",
       "\n",
       "#sk-container-id-1 input.sk-toggleable__control:checked~label.sk-toggleable__label-arrow:before {\n",
       "  content: \"▾\";\n",
       "}\n",
       "\n",
       "/* Pipeline/ColumnTransformer-specific style */\n",
       "\n",
       "#sk-container-id-1 div.sk-label input.sk-toggleable__control:checked~label.sk-toggleable__label {\n",
       "  color: var(--sklearn-color-text);\n",
       "  background-color: var(--sklearn-color-unfitted-level-2);\n",
       "}\n",
       "\n",
       "#sk-container-id-1 div.sk-label.fitted input.sk-toggleable__control:checked~label.sk-toggleable__label {\n",
       "  background-color: var(--sklearn-color-fitted-level-2);\n",
       "}\n",
       "\n",
       "/* Estimator-specific style */\n",
       "\n",
       "/* Colorize estimator box */\n",
       "#sk-container-id-1 div.sk-estimator input.sk-toggleable__control:checked~label.sk-toggleable__label {\n",
       "  /* unfitted */\n",
       "  background-color: var(--sklearn-color-unfitted-level-2);\n",
       "}\n",
       "\n",
       "#sk-container-id-1 div.sk-estimator.fitted input.sk-toggleable__control:checked~label.sk-toggleable__label {\n",
       "  /* fitted */\n",
       "  background-color: var(--sklearn-color-fitted-level-2);\n",
       "}\n",
       "\n",
       "#sk-container-id-1 div.sk-label label.sk-toggleable__label,\n",
       "#sk-container-id-1 div.sk-label label {\n",
       "  /* The background is the default theme color */\n",
       "  color: var(--sklearn-color-text-on-default-background);\n",
       "}\n",
       "\n",
       "/* On hover, darken the color of the background */\n",
       "#sk-container-id-1 div.sk-label:hover label.sk-toggleable__label {\n",
       "  color: var(--sklearn-color-text);\n",
       "  background-color: var(--sklearn-color-unfitted-level-2);\n",
       "}\n",
       "\n",
       "/* Label box, darken color on hover, fitted */\n",
       "#sk-container-id-1 div.sk-label.fitted:hover label.sk-toggleable__label.fitted {\n",
       "  color: var(--sklearn-color-text);\n",
       "  background-color: var(--sklearn-color-fitted-level-2);\n",
       "}\n",
       "\n",
       "/* Estimator label */\n",
       "\n",
       "#sk-container-id-1 div.sk-label label {\n",
       "  font-family: monospace;\n",
       "  font-weight: bold;\n",
       "  display: inline-block;\n",
       "  line-height: 1.2em;\n",
       "}\n",
       "\n",
       "#sk-container-id-1 div.sk-label-container {\n",
       "  text-align: center;\n",
       "}\n",
       "\n",
       "/* Estimator-specific */\n",
       "#sk-container-id-1 div.sk-estimator {\n",
       "  font-family: monospace;\n",
       "  border: 1px dotted var(--sklearn-color-border-box);\n",
       "  border-radius: 0.25em;\n",
       "  box-sizing: border-box;\n",
       "  margin-bottom: 0.5em;\n",
       "  /* unfitted */\n",
       "  background-color: var(--sklearn-color-unfitted-level-0);\n",
       "}\n",
       "\n",
       "#sk-container-id-1 div.sk-estimator.fitted {\n",
       "  /* fitted */\n",
       "  background-color: var(--sklearn-color-fitted-level-0);\n",
       "}\n",
       "\n",
       "/* on hover */\n",
       "#sk-container-id-1 div.sk-estimator:hover {\n",
       "  /* unfitted */\n",
       "  background-color: var(--sklearn-color-unfitted-level-2);\n",
       "}\n",
       "\n",
       "#sk-container-id-1 div.sk-estimator.fitted:hover {\n",
       "  /* fitted */\n",
       "  background-color: var(--sklearn-color-fitted-level-2);\n",
       "}\n",
       "\n",
       "/* Specification for estimator info (e.g. \"i\" and \"?\") */\n",
       "\n",
       "/* Common style for \"i\" and \"?\" */\n",
       "\n",
       ".sk-estimator-doc-link,\n",
       "a:link.sk-estimator-doc-link,\n",
       "a:visited.sk-estimator-doc-link {\n",
       "  float: right;\n",
       "  font-size: smaller;\n",
       "  line-height: 1em;\n",
       "  font-family: monospace;\n",
       "  background-color: var(--sklearn-color-background);\n",
       "  border-radius: 1em;\n",
       "  height: 1em;\n",
       "  width: 1em;\n",
       "  text-decoration: none !important;\n",
       "  margin-left: 0.5em;\n",
       "  text-align: center;\n",
       "  /* unfitted */\n",
       "  border: var(--sklearn-color-unfitted-level-1) 1pt solid;\n",
       "  color: var(--sklearn-color-unfitted-level-1);\n",
       "}\n",
       "\n",
       ".sk-estimator-doc-link.fitted,\n",
       "a:link.sk-estimator-doc-link.fitted,\n",
       "a:visited.sk-estimator-doc-link.fitted {\n",
       "  /* fitted */\n",
       "  border: var(--sklearn-color-fitted-level-1) 1pt solid;\n",
       "  color: var(--sklearn-color-fitted-level-1);\n",
       "}\n",
       "\n",
       "/* On hover */\n",
       "div.sk-estimator:hover .sk-estimator-doc-link:hover,\n",
       ".sk-estimator-doc-link:hover,\n",
       "div.sk-label-container:hover .sk-estimator-doc-link:hover,\n",
       ".sk-estimator-doc-link:hover {\n",
       "  /* unfitted */\n",
       "  background-color: var(--sklearn-color-unfitted-level-3);\n",
       "  color: var(--sklearn-color-background);\n",
       "  text-decoration: none;\n",
       "}\n",
       "\n",
       "div.sk-estimator.fitted:hover .sk-estimator-doc-link.fitted:hover,\n",
       ".sk-estimator-doc-link.fitted:hover,\n",
       "div.sk-label-container:hover .sk-estimator-doc-link.fitted:hover,\n",
       ".sk-estimator-doc-link.fitted:hover {\n",
       "  /* fitted */\n",
       "  background-color: var(--sklearn-color-fitted-level-3);\n",
       "  color: var(--sklearn-color-background);\n",
       "  text-decoration: none;\n",
       "}\n",
       "\n",
       "/* Span, style for the box shown on hovering the info icon */\n",
       ".sk-estimator-doc-link span {\n",
       "  display: none;\n",
       "  z-index: 9999;\n",
       "  position: relative;\n",
       "  font-weight: normal;\n",
       "  right: .2ex;\n",
       "  padding: .5ex;\n",
       "  margin: .5ex;\n",
       "  width: min-content;\n",
       "  min-width: 20ex;\n",
       "  max-width: 50ex;\n",
       "  color: var(--sklearn-color-text);\n",
       "  box-shadow: 2pt 2pt 4pt #999;\n",
       "  /* unfitted */\n",
       "  background: var(--sklearn-color-unfitted-level-0);\n",
       "  border: .5pt solid var(--sklearn-color-unfitted-level-3);\n",
       "}\n",
       "\n",
       ".sk-estimator-doc-link.fitted span {\n",
       "  /* fitted */\n",
       "  background: var(--sklearn-color-fitted-level-0);\n",
       "  border: var(--sklearn-color-fitted-level-3);\n",
       "}\n",
       "\n",
       ".sk-estimator-doc-link:hover span {\n",
       "  display: block;\n",
       "}\n",
       "\n",
       "/* \"?\"-specific style due to the `<a>` HTML tag */\n",
       "\n",
       "#sk-container-id-1 a.estimator_doc_link {\n",
       "  float: right;\n",
       "  font-size: 1rem;\n",
       "  line-height: 1em;\n",
       "  font-family: monospace;\n",
       "  background-color: var(--sklearn-color-background);\n",
       "  border-radius: 1rem;\n",
       "  height: 1rem;\n",
       "  width: 1rem;\n",
       "  text-decoration: none;\n",
       "  /* unfitted */\n",
       "  color: var(--sklearn-color-unfitted-level-1);\n",
       "  border: var(--sklearn-color-unfitted-level-1) 1pt solid;\n",
       "}\n",
       "\n",
       "#sk-container-id-1 a.estimator_doc_link.fitted {\n",
       "  /* fitted */\n",
       "  border: var(--sklearn-color-fitted-level-1) 1pt solid;\n",
       "  color: var(--sklearn-color-fitted-level-1);\n",
       "}\n",
       "\n",
       "/* On hover */\n",
       "#sk-container-id-1 a.estimator_doc_link:hover {\n",
       "  /* unfitted */\n",
       "  background-color: var(--sklearn-color-unfitted-level-3);\n",
       "  color: var(--sklearn-color-background);\n",
       "  text-decoration: none;\n",
       "}\n",
       "\n",
       "#sk-container-id-1 a.estimator_doc_link.fitted:hover {\n",
       "  /* fitted */\n",
       "  background-color: var(--sklearn-color-fitted-level-3);\n",
       "}\n",
       "</style><div id=\"sk-container-id-1\" class=\"sk-top-container\"><div class=\"sk-text-repr-fallback\"><pre>XGBClassifier(base_score=None, booster=None, callbacks=None,\n",
       "              colsample_bylevel=None, colsample_bynode=None,\n",
       "              colsample_bytree=0.8, device=None, early_stopping_rounds=None,\n",
       "              enable_categorical=False, eval_metric=None, feature_types=None,\n",
       "              feature_weights=None, gamma=None, grow_policy=None,\n",
       "              importance_type=None, interaction_constraints=None,\n",
       "              learning_rate=0.1, max_bin=None, max_cat_threshold=None,\n",
       "              max_cat_to_onehot=None, max_delta_step=None, max_depth=6,\n",
       "              max_leaves=None, min_child_weight=None, missing=nan,\n",
       "              monotone_constraints=None, multi_strategy=None, n_estimators=300,\n",
       "              n_jobs=-1, num_parallel_tree=None, ...)</pre><b>In a Jupyter environment, please rerun this cell to show the HTML representation or trust the notebook. <br />On GitHub, the HTML representation is unable to render, please try loading this page with nbviewer.org.</b></div><div class=\"sk-container\" hidden><div class=\"sk-item\"><div class=\"sk-estimator fitted sk-toggleable\"><input class=\"sk-toggleable__control sk-hidden--visually\" id=\"sk-estimator-id-1\" type=\"checkbox\" checked><label for=\"sk-estimator-id-1\" class=\"sk-toggleable__label fitted sk-toggleable__label-arrow\"><div><div>XGBClassifier</div></div><div><a class=\"sk-estimator-doc-link fitted\" rel=\"noreferrer\" target=\"_blank\" href=\"https://xgboost.readthedocs.io/en/release_3.0.0/python/python_api.html#xgboost.XGBClassifier\">?<span>Documentation for XGBClassifier</span></a><span class=\"sk-estimator-doc-link fitted\">i<span>Fitted</span></span></div></label><div class=\"sk-toggleable__content fitted\"><pre>XGBClassifier(base_score=None, booster=None, callbacks=None,\n",
       "              colsample_bylevel=None, colsample_bynode=None,\n",
       "              colsample_bytree=0.8, device=None, early_stopping_rounds=None,\n",
       "              enable_categorical=False, eval_metric=None, feature_types=None,\n",
       "              feature_weights=None, gamma=None, grow_policy=None,\n",
       "              importance_type=None, interaction_constraints=None,\n",
       "              learning_rate=0.1, max_bin=None, max_cat_threshold=None,\n",
       "              max_cat_to_onehot=None, max_delta_step=None, max_depth=6,\n",
       "              max_leaves=None, min_child_weight=None, missing=nan,\n",
       "              monotone_constraints=None, multi_strategy=None, n_estimators=300,\n",
       "              n_jobs=-1, num_parallel_tree=None, ...)</pre></div> </div></div></div></div>"
      ],
      "text/plain": [
       "XGBClassifier(base_score=None, booster=None, callbacks=None,\n",
       "              colsample_bylevel=None, colsample_bynode=None,\n",
       "              colsample_bytree=0.8, device=None, early_stopping_rounds=None,\n",
       "              enable_categorical=False, eval_metric=None, feature_types=None,\n",
       "              feature_weights=None, gamma=None, grow_policy=None,\n",
       "              importance_type=None, interaction_constraints=None,\n",
       "              learning_rate=0.1, max_bin=None, max_cat_threshold=None,\n",
       "              max_cat_to_onehot=None, max_delta_step=None, max_depth=6,\n",
       "              max_leaves=None, min_child_weight=None, missing=nan,\n",
       "              monotone_constraints=None, multi_strategy=None, n_estimators=300,\n",
       "              n_jobs=-1, num_parallel_tree=None, ...)"
      ]
     },
     "execution_count": 15,
     "metadata": {},
     "output_type": "execute_result"
    }
   ],
   "source": [
    "xgb.fit(\n",
    "    X_train, y_train,\n",
    "    eval_set=[(X_train, y_train), (X_val, y_val)],\n",
    "    verbose=50\n",
    ")\n"
   ]
  },
  {
   "cell_type": "markdown",
   "metadata": {},
   "source": [
    "### 📊 Training Results (Log-Loss)\n",
    "\n",
    "During training, the **log-loss** for both training and validation sets quickly dropped close to zero:\n",
    "\n",
    "- At the beginning (iteration 0), log-loss ≈ 0.59 → model starts with weak predictions.  \n",
    "- After ~50 iterations, log-loss already drops below 0.01.  \n",
    "- By 300 iterations, log-loss is almost 0 for both training and validation sets.  \n",
    "\n",
    "⚠️ Interpretation:\n",
    "- This shows that the model has **learned the training patterns very well**.  \n",
    "- But since the validation loss is also extremely low, there is a risk of **data leakage** or the model being **too powerful for the dataset**.  \n",
    "- In fraud detection, this could mean the model memorized specific transaction rules instead of generalizing.  \n",
    "\n",
    "👉 Next step: evaluate on the **held-out test set** with metrics like **Precision, Recall, F1, PR-AUC, and confusion matrix** to confirm if performance holds up.\n"
   ]
  },
  {
   "cell_type": "code",
   "execution_count": 17,
   "metadata": {
    "id": "tzzWVypgkvHP"
   },
   "outputs": [],
   "source": [
    "y_pred = xgb.predict(X_test)                # class predictions (0/1)\n",
    "y_proba = xgb.predict_proba(X_test)[:, 1]   # fraud probability"
   ]
  },
  {
   "cell_type": "code",
   "execution_count": 18,
   "metadata": {
    "colab": {
     "base_uri": "https://localhost:8080/"
    },
    "id": "OkaltRSUjxpJ",
    "outputId": "55b016a7-76af-400f-da7f-417e64b25de3"
   },
   "outputs": [
    {
     "name": "stdout",
     "output_type": "stream",
     "text": [
      "Confusion Matrix:\n",
      " [[914599     12]\n",
      " [     2   4004]]\n",
      "\n",
      "Classification Report:\n",
      "               precision    recall  f1-score   support\n",
      "\n",
      "           0     1.0000    1.0000    1.0000    914611\n",
      "           1     0.9970    0.9995    0.9983      4006\n",
      "\n",
      "    accuracy                         1.0000    918617\n",
      "   macro avg     0.9985    0.9997    0.9991    918617\n",
      "weighted avg     1.0000    1.0000    1.0000    918617\n",
      "\n",
      "ROC-AUC: 0.9999995477535742\n",
      "PR-AUC: 0.9998959030113328\n"
     ]
    }
   ],
   "source": [
    "from sklearn.metrics import classification_report, confusion_matrix, roc_auc_score, average_precision_score\n",
    "\n",
    "print(\"Confusion Matrix:\\n\", confusion_matrix(y_test, y_pred))\n",
    "print(\"\\nClassification Report:\\n\", classification_report(y_test, y_pred, digits=4))\n",
    "\n",
    "print(\"ROC-AUC:\", roc_auc_score(y_test, y_proba))\n",
    "print(\"PR-AUC:\", average_precision_score(y_test, y_proba))\n"
   ]
  },
  {
   "cell_type": "markdown",
   "metadata": {},
   "source": [
    "\n",
    "- Out of **918,617** transactions, only **14 errors**:\n",
    "  - **12 false positives** (normal flagged as fraud).  \n",
    "  - **2 false negatives** (frauds missed).  \n",
    "\n",
    "**Classification Report**\n",
    "- **Fraud class (1)** → Precision = 0.9970, Recall = 0.9995, F1 = 0.9983.  \n",
    "- **Normal class (0)** → Perfect scores (1.0000).  \n",
    "- **Accuracy ≈ 100%**, but this is less meaningful due to imbalance.\n",
    "\n",
    "**ROC-AUC = 0.9999995**  \n",
    "**PR-AUC = 0.999896**  \n",
    "\n",
    "📌 **Interpretation**\n",
    "- The model is performing **exceptionally well**: nearly perfect separation between fraud and normal.  \n",
    "- Almost all frauds are detected (very high recall), with very few false alarms (very high precision).  \n",
    "- Both ROC-AUC and PR-AUC are essentially **1.0**, which is rare in real-world fraud detection.  \n",
    "\n",
    "⚠️ **Caution**: Such near-perfect results may indicate:\n",
    "- The dataset contains strong or even **leaky features** (fraud rules hard-coded in balances).  \n",
    "- Performance on real-world, noisy data is likely to be lower.  \n",
    "\n",
    "👉 Next steps:\n",
    "- Verify there is **no data leakage**.  \n",
    "- Test with **different thresholds** and business cost scenarios.  \n",
    "- Compare with **unsupervised baselines** (e.g., Autoencoder) for robustness.\n"
   ]
  },
  {
   "cell_type": "code",
   "execution_count": 19,
   "metadata": {
    "colab": {
     "base_uri": "https://localhost:8080/",
     "height": 489
    },
    "id": "E-7yoSeqkpMP",
    "outputId": "fed2dd49-c4dc-40ed-dac0-9d7cb462df84"
   },
   "outputs": [
    {
     "data": {
      "image/png": "[encoded data removed]",
      "text/plain": [
       "<Figure size 640x480 with 1 Axes>"
      ]
     },
     "metadata": {},
     "output_type": "display_data"
    },
    {
     "name": "stdout",
     "output_type": "stream",
     "text": [
      "Best threshold: 0.86011976\n"
     ]
    }
   ],
   "source": [
    "from sklearn.metrics import precision_recall_curve\n",
    "import matplotlib.pyplot as plt\n",
    "\n",
    "prec, rec, thresholds = precision_recall_curve(y_test, y_proba)\n",
    "\n",
    "plt.plot(rec, prec)\n",
    "plt.xlabel(\"Recall\")\n",
    "plt.ylabel(\"Precision\")\n",
    "plt.title(\"Precision-Recall Curve\")\n",
    "plt.show()\n",
    "\n",
    "# Find threshold that maximizes F1-score\n",
    "f1_scores = 2*prec*rec / (prec+rec+1e-6)\n",
    "best_idx = f1_scores.argmax()\n",
    "best_threshold = thresholds[best_idx]\n",
    "print(\"Best threshold:\", best_threshold)"
   ]
  },
  {
   "cell_type": "code",
   "execution_count": 20,
   "metadata": {
    "id": "2hEe5L46lJwI"
   },
   "outputs": [],
   "source": [
    "# Apply tuned threshold\n",
    "y_pred_tuned = (y_proba >= 0.86011976).astype(int)\n"
   ]
  },
  {
   "cell_type": "code",
   "execution_count": 21,
   "metadata": {
    "colab": {
     "base_uri": "https://localhost:8080/"
    },
    "id": "vwJDGjYBlTJu",
    "outputId": "d81ce155-912e-4b47-cca2-2acaf886361a"
   },
   "outputs": [
    {
     "name": "stdout",
     "output_type": "stream",
     "text": [
      "Confusion Matrix:\n",
      " [[914599     12]\n",
      " [     2   4004]]\n",
      "\n",
      "Classification Report:\n",
      "               precision    recall  f1-score   support\n",
      "\n",
      "           0     1.0000    1.0000    1.0000    914611\n",
      "           1     0.9970    0.9995    0.9983      4006\n",
      "\n",
      "    accuracy                         1.0000    918617\n",
      "   macro avg     0.9985    0.9997    0.9991    918617\n",
      "weighted avg     1.0000    1.0000    1.0000    918617\n",
      "\n"
     ]
    }
   ],
   "source": [
    "from sklearn.metrics import classification_report, confusion_matrix\n",
    "\n",
    "print(\"Confusion Matrix:\\n\", confusion_matrix(y_test, y_pred_tuned))\n",
    "print(\"\\nClassification Report:\\n\", classification_report(y_test, y_pred_tuned, digits=4))"
   ]
  },
  {
   "cell_type": "markdown",
   "metadata": {},
   "source": [
    "## 🔄 Transition to Autoencoders\n",
    "\n",
    "Our XGBoost model achieved almost perfect performance on the PaySim dataset.  \n",
    "However, in real-world fraud detection, such results are rare because:\n",
    "\n",
    "- Fraud patterns constantly evolve, making labeled data incomplete.  \n",
    "- Many fraud cases remain **unknown or unlabeled**, so supervised models cannot learn them.  \n",
    "- Models that perform too well on historical data may rely on **leaky signals** that do not generalize.\n",
    "\n",
    "👉 To address these challenges, we now explore **Autoencoders**, an **unsupervised anomaly detection approach**.  \n",
    "The idea is to train the model only on **normal transactions**, so it learns the typical transaction patterns.  \n",
    "At inference time, **fraudulent transactions** (which deviate from normal behavior) will show **higher reconstruction error** and can be flagged as anomalies.\n",
    "\n",
    "This provides a complementary method to supervised learning, helping us build a more **robust and realistic fraud detection system**.\n"
   ]
  },
  {
   "cell_type": "code",
   "execution_count": 22,
   "metadata": {
    "id": "dFwoG6t7l5wX"
   },
   "outputs": [],
   "source": [
    "from sklearn.preprocessing import StandardScaler"
   ]
  },
  {
   "cell_type": "code",
   "execution_count": 23,
   "metadata": {
    "id": "v7oZFt7el9ao"
   },
   "outputs": [],
   "source": [
    "\n",
    "# Fit scaler on NORMAL train only\n",
    "scaler = StandardScaler(with_mean=True, with_std=True)\n",
    "scaler.fit(X_train[y_train==0])\n",
    "\n",
    "Xtr = scaler.transform(X_train)\n",
    "Xva = scaler.transform(X_val)\n",
    "Xte = scaler.transform(X_test)\n",
    "\n",
    "# Masks for normals (0) and frauds (1)\n",
    "m_tr_norm = (y_train == 0).values\n",
    "m_va_norm = (y_val   == 0).values"
   ]
  },
  {
   "cell_type": "markdown",
   "metadata": {},
   "source": [
    "### 🧹 Data Preparation for Autoencoder\n",
    "\n",
    "Since an Autoencoder is trained to learn the structure of **normal transactions only**, we apply special preprocessing:\n",
    "\n",
    "1. **Scaling (StandardScaler)**  \n",
    "   - We fit the scaler using only **normal transactions from the training set** (`y_train==0`).  \n",
    "   - This avoids leaking fraud patterns into the model during training.  \n",
    "   - All train, validation, and test sets are then transformed with this scaler.\n",
    "\n",
    "2. **Masks for normal vs fraud**  \n",
    "   - `m_tr_norm` → identifies which samples in the training set are normal (used to fit the Autoencoder).  \n",
    "   - `m_va_norm` → same for the validation set (used to monitor training).  \n",
    "\n",
    "👉 This ensures the Autoencoder will only **see normal patterns** during training, so frauds can later be detected as **outliers with high reconstruction error**.\n"
   ]
  },
  {
   "cell_type": "code",
   "execution_count": 24,
   "metadata": {
    "id": "kzA6ostcmASx"
   },
   "outputs": [],
   "source": [
    "import torch\n",
    "import torch.nn as nn\n",
    "from torch.utils.data import TensorDataset, DataLoader\n",
    "\n",
    "d_in = Xtr.shape[1]\n",
    "\n",
    "class AE(nn.Module):\n",
    "    def __init__(self, d_in, d_latent=16):\n",
    "        super().__init__()\n",
    "        self.encoder = nn.Sequential(\n",
    "            nn.Linear(d_in, 64), nn.ReLU(),\n",
    "            nn.Linear(64, 32), nn.ReLU(),\n",
    "            nn.Linear(32, d_latent)\n",
    "        )\n",
    "        self.decoder = nn.Sequential(\n",
    "            nn.Linear(d_latent, 32), nn.ReLU(),\n",
    "            nn.Linear(32, 64), nn.ReLU(),\n",
    "            nn.Linear(64, d_in)\n",
    "        )\n",
    "    def forward(self, x):\n",
    "        z = self.encoder(x)\n",
    "        return self.decoder(z)\n",
    "\n",
    "def recon_error(x, x_hat):\n",
    "    # L2 reconstruction error per sample\n",
    "    return ((x - x_hat)**2).sum(dim=1)"
   ]
  },
  {
   "cell_type": "markdown",
   "metadata": {},
   "source": [
    "### 🧠 Autoencoder Architecture\n",
    "\n",
    "We now define a simple **Feed-Forward Autoencoder (AE)** in PyTorch:\n",
    "\n",
    "- **Input dimension (`d_in`)** → number of features in the dataset.  \n",
    "- **Latent space (`d_latent=16`)** → compressed representation that forces the model to learn only the most important patterns.\n",
    "\n",
    "**Architecture:**\n",
    "- **Encoder**  \n",
    "  - Input → 64 → 32 → latent vector (16).  \n",
    "  - Uses `ReLU` activations to capture non-linear relationships.  \n",
    "- **Decoder**  \n",
    "  - Latent → 32 → 64 → output (same size as input).  \n",
    "  - Reconstructs the original features from the latent vector.\n",
    "\n",
    "**Reconstruction error (`recon_error`)**  \n",
    "- Computed as the squared difference between input and reconstructed output.  \n",
    "- At inference, **fraudulent transactions** should yield **higher errors** since they deviate from the learned normal patterns.\n",
    "\n",
    "👉 This model is trained only on **normal transactions**. Later, transactions with high reconstruction error will be flagged as **potential frauds**.\n"
   ]
  },
  {
   "cell_type": "markdown",
   "metadata": {},
   "source": [
    "### 🔧 Training the Autoencoder\n",
    "\n",
    "We now train the Autoencoder on **normal transactions only**:\n",
    "\n",
    "- **Device setup** → run on GPU if available, otherwise CPU.  \n",
    "- **Optimizer** → Adam with learning rate `1e-3` and small weight decay (`1e-5`) for regularization.  \n",
    "- **Loss function** → Mean Squared Error (MSE), comparing input vs reconstructed output.  \n",
    "\n",
    "**Data preparation**  \n",
    "- Train loader (`tr_dl`) → only normal transactions from the training set.  \n",
    "- Validation loader (`va_dl`) → only normal transactions from the validation set.  \n",
    "- This ensures the model learns the \"normal behavior\" distribution.\n",
    "\n",
    "**Training loop**  \n",
    "- Runs up to 200 epochs with **early stopping** (patience=10).  \n",
    "- Tracks **training loss** and **validation loss**.  \n",
    "- Keeps the best model parameters when validation loss improves.  \n",
    "- Stops training if no improvement for 10 consecutive epochs.\n",
    "\n",
    "**Result**  \n",
    "- The Autoencoder is now optimized to **reconstruct normal transactions well**.  \n",
    "- At inference time, fraudulent transactions should show **larger reconstruction errors**, allowing us to flag them as anomalies.\n"
   ]
  },
  {
   "cell_type": "code",
   "execution_count": 25,
   "metadata": {
    "colab": {
     "base_uri": "https://localhost:8080/"
    },
    "id": "OT4Jmdl5oTii",
    "outputId": "e0bfe49f-aa4b-4a96-81eb-2c3cdcfd3b75"
   },
   "outputs": [
    {
     "data": {
      "text/plain": [
       "AE(\n",
       "  (encoder): Sequential(\n",
       "    (0): Linear(in_features=18, out_features=64, bias=True)\n",
       "    (1): ReLU()\n",
       "    (2): Linear(in_features=64, out_features=32, bias=True)\n",
       "    (3): ReLU()\n",
       "    (4): Linear(in_features=32, out_features=16, bias=True)\n",
       "  )\n",
       "  (decoder): Sequential(\n",
       "    (0): Linear(in_features=16, out_features=32, bias=True)\n",
       "    (1): ReLU()\n",
       "    (2): Linear(in_features=32, out_features=64, bias=True)\n",
       "    (3): ReLU()\n",
       "    (4): Linear(in_features=64, out_features=18, bias=True)\n",
       "  )\n",
       ")"
      ]
     },
     "execution_count": 25,
     "metadata": {},
     "output_type": "execute_result"
    }
   ],
   "source": [
    "device = torch.device(\"cuda\" if torch.cuda.is_available() else \"cpu\")\n",
    "ae = AE(d_in, d_latent=16).to(device)\n",
    "opt = torch.optim.Adam(ae.parameters(), lr=1e-3, weight_decay=1e-5)\n",
    "loss_fn = nn.MSELoss()\n",
    "\n",
    "# Dataloaders: train on normal-only\n",
    "tr_ds = TensorDataset(torch.tensor(Xtr[m_tr_norm], dtype=torch.float32))\n",
    "va_ds = TensorDataset(torch.tensor(Xva[m_va_norm], dtype=torch.float32))\n",
    "tr_dl = DataLoader(tr_ds, batch_size=512, shuffle=True)\n",
    "va_dl = DataLoader(va_ds, batch_size=2048, shuffle=False)\n",
    "\n",
    "best_val = float('inf'); patience=10; bad=0\n",
    "for epoch in range(200):\n",
    "    ae.train()\n",
    "    tr_loss = 0.0\n",
    "    for (xb,) in tr_dl:\n",
    "        xb = xb.to(device)\n",
    "        xh = ae(xb)\n",
    "        loss = loss_fn(xh, xb)\n",
    "        opt.zero_grad(); loss.backward(); opt.step()\n",
    "        tr_loss += loss.item() * len(xb)\n",
    "    tr_loss /= len(tr_ds)\n",
    "\n",
    "    # val loss on normal-only\n",
    "    ae.eval()\n",
    "    with torch.no_grad():\n",
    "        val_sum, n = 0.0, 0\n",
    "        for (xb,) in va_dl:\n",
    "            xb = xb.to(device)\n",
    "            xh = ae(xb)\n",
    "            val_sum += loss_fn(xh, xb).item() * len(xb)\n",
    "            n += len(xb)\n",
    "        va_loss = val_sum / n\n",
    "\n",
    "    # early stopping\n",
    "    if va_loss + 1e-6 < best_val:\n",
    "        best_val = va_loss; bad = 0\n",
    "        best_state = {k: v.cpu().clone() for k, v in ae.state_dict().items()}\n",
    "    else:\n",
    "        bad += 1\n",
    "    if bad >= patience:\n",
    "        break\n",
    "\n",
    "ae.load_state_dict(best_state)  # restore best\n",
    "ae.to(device).eval()\n"
   ]
  },
  {
   "cell_type": "code",
   "execution_count": 26,
   "metadata": {
    "colab": {
     "base_uri": "https://localhost:8080/"
    },
    "id": "513MfkEVodm8",
    "outputId": "a55eaa7e-2ffb-43f9-e6bc-d51448428e98"
   },
   "outputs": [
    {
     "name": "stdout",
     "output_type": "stream",
     "text": [
      "AE best threshold (val): 3.8239396\n"
     ]
    }
   ],
   "source": [
    "from sklearn.metrics import precision_recall_curve, classification_report, confusion_matrix, average_precision_score, roc_auc_score\n",
    "\n",
    "def score_recon(data_np):\n",
    "    with torch.no_grad():\n",
    "        x = torch.tensor(data_np, dtype=torch.float32, device=device)\n",
    "        xh = ae(x)\n",
    "        err = recon_error(x, xh).cpu().numpy()\n",
    "    return err\n",
    "\n",
    "err_va = score_recon(Xva)   # scores for all val samples\n",
    "# Higher error ⇒ more anomalous\n",
    "\n",
    "prec, rec, thr = precision_recall_curve(y_val, err_va)\n",
    "f1 = 2*prec*rec/(prec+rec+1e-6)\n",
    "thr_best = thr[np.argmax(f1)]\n",
    "print(\"AE best threshold (val):\", thr_best)\n"
   ]
  },
  {
   "cell_type": "code",
   "execution_count": 27,
   "metadata": {
    "colab": {
     "base_uri": "https://localhost:8080/"
    },
    "id": "WdO1nolSrMHu",
    "outputId": "b186b9ae-65f3-40e1-b218-ea733fc31cb7"
   },
   "outputs": [
    {
     "name": "stdout",
     "output_type": "stream",
     "text": [
      "AE Confusion Matrix:\n",
      " [[764608 150003]\n",
      " [  1592   2414]]\n",
      "\n",
      "AE Classification Report:\n",
      "               precision    recall  f1-score   support\n",
      "\n",
      "           0     0.9979    0.8360    0.9098    914611\n",
      "           1     0.0158    0.6026    0.0309      4006\n",
      "\n",
      "    accuracy                         0.8350    918617\n",
      "   macro avg     0.5069    0.7193    0.4703    918617\n",
      "weighted avg     0.9936    0.8350    0.9060    918617\n",
      "\n",
      "AE PR-AUC: 0.22050509808149407\n",
      "AE ROC-AUC: 0.8458083074412884\n"
     ]
    }
   ],
   "source": [
    "err_te = score_recon(Xte)\n",
    "y_pred_ae = (err_te >= thr_best).astype(int)\n",
    "\n",
    "print(\"AE Confusion Matrix:\\n\", confusion_matrix(y_test, y_pred_ae))\n",
    "print(\"\\nAE Classification Report:\\n\", classification_report(y_test, y_pred_ae, digits=4))\n",
    "\n",
    "# Optional: PR-AUC with anomaly score (convert to ranking)\n",
    "print(\"AE PR-AUC:\", average_precision_score(y_test, err_te))\n",
    "print(\"AE ROC-AUC:\", roc_auc_score(y_test, err_te))\n"
   ]
  },
  {
   "cell_type": "markdown",
   "metadata": {
    "id": "3naSQ_MorQ_-"
   },
   "source": [
    "### 📊 Autoencoder Results (Test Set)\n",
    "\n",
    "**Confusion Matrix**\n",
    "\n",
    "- The Autoencoder flags a large number of normal transactions as fraud (**false positives = 150,003**).  \n",
    "- It detects many frauds (**recall = 60%**), but with very low precision.  \n",
    "\n",
    "**Classification Report**\n",
    "- Fraud (1) → Precision = 0.016, Recall = 0.603, F1 = 0.031.  \n",
    "- Normal (0) → Precision ≈ 0.998, Recall ≈ 0.836.  \n",
    "- Accuracy ≈ 83.5%, but this is misleading due to heavy imbalance.  \n",
    "\n",
    "**AUC Metrics**\n",
    "- **ROC-AUC = 0.846** → moderate ability to separate fraud vs normal.  \n",
    "- **PR-AUC = 0.221** → low, showing the model struggles to achieve useful precision at reasonable recall.  \n",
    "\n",
    "📌 **Interpretation**\n",
    "- The Autoencoder can detect some fraud patterns (60% recall) but at the cost of a **huge false alarm rate**.  \n",
    "- Precision is extremely low, meaning most flagged alerts are false positives.  \n",
    "- This happens because the dataset contains **strong leakage features** (balances) that supervised XGBoost exploited, but the Autoencoder cannot.  \n",
    "- Still, Autoencoders are valuable in scenarios where **labels are incomplete or missing**, since they can highlight unusual behavior.\n"
   ]
  },
  {
   "cell_type": "markdown",
   "metadata": {},
   "source": [
    "## 🏁 Conclusion\n",
    "\n",
    "In this project, we built and compared two approaches to fraud detection using the **PaySim transaction dataset**:\n",
    "\n",
    "1. **Supervised Learning (XGBoost)**  \n",
    "   - Delivered almost perfect performance (ROC-AUC ≈ 1.0, PR-AUC ≈ 1.0).  \n",
    "   - Achieved very high precision and recall, with only a handful of misclassified transactions.  \n",
    "   - However, such near-perfect results suggest the dataset may contain **strong or leaky features** that are not realistic in real-world banking data.\n",
    "\n",
    "2. **Unsupervised Learning (Autoencoder)**  \n",
    "   - Trained only on **normal transactions** to detect fraud as anomalies.  \n",
    "   - Reached moderate performance (ROC-AUC ≈ 0.85, PR-AUC ≈ 0.22).  \n",
    "   - Able to catch some frauds (recall ≈ 60%) but produced too many false positives, leading to very low precision.  \n",
    "   - This reflects the real challenge of fraud detection: balancing **recall (catching frauds)** with **precision (avoiding false alerts)**.\n",
    "\n",
    "### Key Takeaways\n",
    "- Supervised models like XGBoost work extremely well when **clean, labeled data** is available, but may overfit to patterns that don’t generalize.  \n",
    "- Autoencoders are useful when **labels are scarce or incomplete**, but require more careful tuning and feature design to reduce false alarms.  \n",
    "- In practice, the best fraud detection systems often **combine both approaches**:  \n",
    "  - Use **supervised models** for known fraud patterns.  \n",
    "  - Use **unsupervised models** (autoencoders, anomaly detection) to flag **new or evolving frauds**.  \n",
    "\n",
    "👉 Overall, this project shows how machine learning can be applied to fraud detection, the strengths and limitations of different approaches, and the importance of evaluating models with **precision, recall, and PR-AUC** in highly imbalanced settings.\n"
   ]
  },
  {
   "cell_type": "code",
   "execution_count": null,
   "metadata": {},
   "outputs": [],
   "source": []
  }
 ],
 "metadata": {
  "accelerator": "GPU",
  "colab": {
   "gpuType": "T4",
   "provenance": []
  },
  "kernelspec": {
   "display_name": "Python 3 (ipykernel)",
   "language": "python",
   "name": "python3"
  },
  "language_info": {
   "codemirror_mode": {
    "name": "ipython",
    "version": 3
   },
   "file_extension": ".py",
   "mimetype": "text/x-python",
   "name": "python",
   "nbconvert_exporter": "python",
   "pygments_lexer": "ipython3",
   "version": "3.12.5"
  }
 },
 "nbformat": 4,
 "nbformat_minor": 4
}
